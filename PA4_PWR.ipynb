{
 "cells": [
  {
   "cell_type": "markdown",
   "id": "ad2e74e6",
   "metadata": {},
   "source": [
    "## Programming Assignment 4\n",
    "* Will Robinson \n",
    "* 10-11-2021\n",
    "* CS-150-01"
   ]
  },
  {
   "cell_type": "code",
   "execution_count": 1,
   "id": "2350fc76",
   "metadata": {},
   "outputs": [],
   "source": [
    "import random \n",
    "numbers=[random.randrange(1,20) for i in range(10)]"
   ]
  },
  {
   "cell_type": "code",
   "execution_count": 2,
   "id": "7b16ed01",
   "metadata": {},
   "outputs": [
    {
     "data": {
      "text/plain": [
       "[15, 3, 11, 8, 13, 14, 6, 12, 19, 8]"
      ]
     },
     "execution_count": 2,
     "metadata": {},
     "output_type": "execute_result"
    }
   ],
   "source": [
    "numbers"
   ]
  },
  {
   "cell_type": "markdown",
   "id": "1cdca569",
   "metadata": {},
   "source": [
    "### Append()-allows user to append a desired number to the end of the list"
   ]
  },
  {
   "cell_type": "code",
   "execution_count": 8,
   "id": "9a196b82",
   "metadata": {},
   "outputs": [],
   "source": [
    "numbers.append(477)"
   ]
  },
  {
   "cell_type": "code",
   "execution_count": 9,
   "id": "e9e8c3e4",
   "metadata": {},
   "outputs": [
    {
     "data": {
      "text/plain": [
       "[15, 3, 11, 8, 13, 950, 14, 6, 12, 19, 8, 477]"
      ]
     },
     "execution_count": 9,
     "metadata": {},
     "output_type": "execute_result"
    }
   ],
   "source": [
    "numbers"
   ]
  },
  {
   "cell_type": "markdown",
   "id": "28370b78",
   "metadata": {},
   "source": [
    "### Extend()-allows the user to add multiple numbers to the end of the list"
   ]
  },
  {
   "cell_type": "code",
   "execution_count": 10,
   "id": "9fd5a9f9",
   "metadata": {},
   "outputs": [],
   "source": [
    "numbers.extend([80,120,260])"
   ]
  },
  {
   "cell_type": "code",
   "execution_count": 11,
   "id": "c7b2eda9",
   "metadata": {},
   "outputs": [
    {
     "data": {
      "text/plain": [
       "[15, 3, 11, 8, 13, 950, 14, 6, 12, 19, 8, 477, 80, 120, 260]"
      ]
     },
     "execution_count": 11,
     "metadata": {},
     "output_type": "execute_result"
    }
   ],
   "source": [
    "numbers"
   ]
  },
  {
   "cell_type": "markdown",
   "id": "1697dc39",
   "metadata": {},
   "source": [
    "### Insert()-allows the user to insert dersired number to a desired spot in the list "
   ]
  },
  {
   "cell_type": "code",
   "execution_count": 6,
   "id": "8a65767c",
   "metadata": {},
   "outputs": [],
   "source": [
    "numbers.insert(5,950)"
   ]
  },
  {
   "cell_type": "code",
   "execution_count": 7,
   "id": "4c8599c0",
   "metadata": {},
   "outputs": [
    {
     "data": {
      "text/plain": [
       "[15, 3, 11, 8, 13, 950, 14, 6, 12, 19, 8]"
      ]
     },
     "execution_count": 7,
     "metadata": {},
     "output_type": "execute_result"
    }
   ],
   "source": [
    "numbers"
   ]
  },
  {
   "cell_type": "markdown",
   "id": "31fc2705",
   "metadata": {},
   "source": [
    "### Remove()-allows the user to select a number from the list to remove"
   ]
  },
  {
   "cell_type": "code",
   "execution_count": 12,
   "id": "3635e42d",
   "metadata": {},
   "outputs": [],
   "source": [
    "numbers.remove(950)"
   ]
  },
  {
   "cell_type": "code",
   "execution_count": 13,
   "id": "4cbdb859",
   "metadata": {},
   "outputs": [
    {
     "data": {
      "text/plain": [
       "[15, 3, 11, 8, 13, 14, 6, 12, 19, 8, 477, 80, 120, 260]"
      ]
     },
     "execution_count": 13,
     "metadata": {},
     "output_type": "execute_result"
    }
   ],
   "source": [
    "numbers"
   ]
  },
  {
   "cell_type": "markdown",
   "id": "9772a1fc",
   "metadata": {},
   "source": [
    "### Count()-will show count of a certain number"
   ]
  },
  {
   "cell_type": "code",
   "execution_count": 14,
   "id": "bec60f76",
   "metadata": {},
   "outputs": [
    {
     "data": {
      "text/plain": [
       "2"
      ]
     },
     "execution_count": 14,
     "metadata": {},
     "output_type": "execute_result"
    }
   ],
   "source": [
    "numbers.count(8)"
   ]
  },
  {
   "cell_type": "markdown",
   "id": "574762c0",
   "metadata": {},
   "source": [
    "### Index()-gives the index of the item choosen from the list"
   ]
  },
  {
   "cell_type": "code",
   "execution_count": 5,
   "id": "84e6e39a",
   "metadata": {},
   "outputs": [
    {
     "data": {
      "text/plain": [
       "3"
      ]
     },
     "execution_count": 5,
     "metadata": {},
     "output_type": "execute_result"
    }
   ],
   "source": [
    "numbers.index(8)"
   ]
  },
  {
   "cell_type": "markdown",
   "id": "269116a0",
   "metadata": {},
   "source": [
    "### Pop()-will remove a desired index item and return that item so the user knows which item was removed"
   ]
  },
  {
   "cell_type": "code",
   "execution_count": 25,
   "id": "256c4179",
   "metadata": {},
   "outputs": [
    {
     "data": {
      "text/plain": [
       "[5, 14, 6, 1, 14, 12, 8, 11, 11, 9]"
      ]
     },
     "execution_count": 25,
     "metadata": {},
     "output_type": "execute_result"
    }
   ],
   "source": [
    "numbers=[random.randrange(1,20) for i in range(10)]\n",
    "numbers"
   ]
  },
  {
   "cell_type": "code",
   "execution_count": 26,
   "id": "8aaf6fe2",
   "metadata": {},
   "outputs": [
    {
     "data": {
      "text/plain": [
       "14"
      ]
     },
     "execution_count": 26,
     "metadata": {},
     "output_type": "execute_result"
    }
   ],
   "source": [
    "numbers.pop(1)"
   ]
  },
  {
   "cell_type": "code",
   "execution_count": 27,
   "id": "74d99976",
   "metadata": {},
   "outputs": [
    {
     "data": {
      "text/plain": [
       "[5, 6, 1, 14, 12, 8, 11, 11, 9]"
      ]
     },
     "execution_count": 27,
     "metadata": {},
     "output_type": "execute_result"
    }
   ],
   "source": [
    "numbers"
   ]
  },
  {
   "cell_type": "markdown",
   "id": "0e124b2e",
   "metadata": {},
   "source": [
    "### Sorted()-permenitly sorts the list  "
   ]
  },
  {
   "cell_type": "code",
   "execution_count": 3,
   "id": "a80839fa",
   "metadata": {},
   "outputs": [],
   "source": [
    "x=sorted(numbers)"
   ]
  },
  {
   "cell_type": "code",
   "execution_count": 4,
   "id": "1a15450b",
   "metadata": {},
   "outputs": [
    {
     "data": {
      "text/plain": [
       "[3, 6, 8, 8, 11, 12, 13, 14, 15, 19]"
      ]
     },
     "execution_count": 4,
     "metadata": {},
     "output_type": "execute_result"
    }
   ],
   "source": [
    "x"
   ]
  },
  {
   "cell_type": "markdown",
   "id": "d6a452dc",
   "metadata": {},
   "source": [
    "### Copy()-allows the user to copy a list"
   ]
  },
  {
   "cell_type": "code",
   "execution_count": 15,
   "id": "e00480ae",
   "metadata": {},
   "outputs": [
    {
     "data": {
      "text/plain": [
       "[15, 3, 11, 8, 13, 14, 6, 12, 19, 8, 477, 80, 120, 260]"
      ]
     },
     "execution_count": 15,
     "metadata": {},
     "output_type": "execute_result"
    }
   ],
   "source": [
    "numbers"
   ]
  },
  {
   "cell_type": "code",
   "execution_count": 16,
   "id": "6e4eb36a",
   "metadata": {},
   "outputs": [
    {
     "data": {
      "text/plain": [
       "[15, 3, 11, 8, 13, 14, 6, 12, 19, 8, 477, 80, 120, 260]"
      ]
     },
     "execution_count": 16,
     "metadata": {},
     "output_type": "execute_result"
    }
   ],
   "source": [
    "n2=numbers.copy()\n",
    "n2"
   ]
  },
  {
   "cell_type": "markdown",
   "id": "025ba822",
   "metadata": {},
   "source": [
    "### Clear()-clears the whole list"
   ]
  },
  {
   "cell_type": "code",
   "execution_count": 23,
   "id": "dd08d4ba",
   "metadata": {},
   "outputs": [],
   "source": [
    "numbers.clear()"
   ]
  },
  {
   "cell_type": "code",
   "execution_count": 24,
   "id": "2e5069a0",
   "metadata": {},
   "outputs": [
    {
     "data": {
      "text/plain": [
       "[]"
      ]
     },
     "execution_count": 24,
     "metadata": {},
     "output_type": "execute_result"
    }
   ],
   "source": [
    "numbers"
   ]
  },
  {
   "cell_type": "markdown",
   "id": "f97b555e",
   "metadata": {},
   "source": [
    "### Any()-will return \"true\" if anything in the passed list is true"
   ]
  },
  {
   "cell_type": "code",
   "execution_count": 21,
   "id": "09f79804",
   "metadata": {},
   "outputs": [
    {
     "data": {
      "text/plain": [
       "[5, 11, 8, 16, 1, 6, 10, 1, 2, 18]"
      ]
     },
     "execution_count": 21,
     "metadata": {},
     "output_type": "execute_result"
    }
   ],
   "source": [
    "numbers"
   ]
  },
  {
   "cell_type": "code",
   "execution_count": 22,
   "id": "74e1b769",
   "metadata": {},
   "outputs": [
    {
     "name": "stdout",
     "output_type": "stream",
     "text": [
      "True\n"
     ]
    }
   ],
   "source": [
    "print(any(numbers))"
   ]
  },
  {
   "cell_type": "markdown",
   "id": "53d1cc46",
   "metadata": {},
   "source": [
    "### Filter()-filters the list to what the user inputs"
   ]
  },
  {
   "cell_type": "code",
   "execution_count": 18,
   "id": "bdc38d38",
   "metadata": {},
   "outputs": [
    {
     "name": "stdout",
     "output_type": "stream",
     "text": [
      "[5, 11, 8, 16, 1, 6, 10, 1, 2, 18]\n"
     ]
    }
   ],
   "source": [
    "def greater_three(x):\n",
    "    if x>3:\n",
    "        return x\n",
    "numbers=[random.randrange(1,20) for i in range(10)]\n",
    "print(numbers)"
   ]
  },
  {
   "cell_type": "code",
   "execution_count": 19,
   "id": "7c9fe231",
   "metadata": {},
   "outputs": [
    {
     "data": {
      "text/plain": [
       "[5, 11, 8, 16, 6, 10, 18]"
      ]
     },
     "execution_count": 19,
     "metadata": {},
     "output_type": "execute_result"
    }
   ],
   "source": [
    "list(filter(greater_three,numbers))"
   ]
  },
  {
   "cell_type": "markdown",
   "id": "48aea56d",
   "metadata": {},
   "source": [
    "### List()-shows the curret list"
   ]
  },
  {
   "cell_type": "code",
   "execution_count": 29,
   "id": "ae9a84bf",
   "metadata": {},
   "outputs": [
    {
     "data": {
      "text/plain": [
       "[5, 6, 1, 14, 12, 8, 11, 11, 9]"
      ]
     },
     "execution_count": 29,
     "metadata": {},
     "output_type": "execute_result"
    }
   ],
   "source": [
    "list(numbers)"
   ]
  },
  {
   "cell_type": "code",
   "execution_count": 31,
   "id": "58f19a2e",
   "metadata": {},
   "outputs": [
    {
     "data": {
      "text/plain": [
       "list"
      ]
     },
     "execution_count": 31,
     "metadata": {},
     "output_type": "execute_result"
    }
   ],
   "source": [
    "x=[4,5,6,7,8,9,10]\n",
    "type(x)"
   ]
  },
  {
   "cell_type": "markdown",
   "id": "d73f1d15",
   "metadata": {},
   "source": [
    "### Map()-calls all items from the list"
   ]
  },
  {
   "cell_type": "code",
   "execution_count": 20,
   "id": "339f1c7b",
   "metadata": {},
   "outputs": [
    {
     "data": {
      "text/plain": [
       "[5, 11, 8, 16, None, 6, 10, None, None, 18]"
      ]
     },
     "execution_count": 20,
     "metadata": {},
     "output_type": "execute_result"
    }
   ],
   "source": [
    "list(map(greater_three,numbers))"
   ]
  },
  {
   "cell_type": "markdown",
   "id": "9c05f334",
   "metadata": {},
   "source": [
    "### CMP()-it apperently no longer exists in python,but it should compare a and b and tell which is greater"
   ]
  },
  {
   "cell_type": "code",
   "execution_count": 40,
   "id": "5b9c8abe",
   "metadata": {
    "scrolled": true
   },
   "outputs": [
    {
     "ename": "NameError",
     "evalue": "name 'cmp' is not defined",
     "output_type": "error",
     "traceback": [
      "\u001b[0;31m---------------------------------------------------------------------------\u001b[0m",
      "\u001b[0;31mNameError\u001b[0m                                 Traceback (most recent call last)",
      "\u001b[0;32m<ipython-input-40-92c286d2e67e>\u001b[0m in \u001b[0;36m<module>\u001b[0;34m\u001b[0m\n\u001b[1;32m      1\u001b[0m \u001b[0ma\u001b[0m\u001b[0;34m=\u001b[0m\u001b[0;36m14\u001b[0m\u001b[0;34m\u001b[0m\u001b[0;34m\u001b[0m\u001b[0m\n\u001b[1;32m      2\u001b[0m \u001b[0mb\u001b[0m\u001b[0;34m=\u001b[0m\u001b[0;36m63\u001b[0m\u001b[0;34m\u001b[0m\u001b[0;34m\u001b[0m\u001b[0m\n\u001b[0;32m----> 3\u001b[0;31m \u001b[0mprint\u001b[0m\u001b[0;34m(\u001b[0m\u001b[0mcmp\u001b[0m\u001b[0;34m(\u001b[0m\u001b[0ma\u001b[0m\u001b[0;34m,\u001b[0m\u001b[0mb\u001b[0m\u001b[0;34m)\u001b[0m\u001b[0;34m)\u001b[0m\u001b[0;34m\u001b[0m\u001b[0;34m\u001b[0m\u001b[0m\n\u001b[0m",
      "\u001b[0;31mNameError\u001b[0m: name 'cmp' is not defined"
     ]
    }
   ],
   "source": [
    "a=14\n",
    "b=63\n",
    "print(cmp(a,b))"
   ]
  },
  {
   "cell_type": "markdown",
   "id": "c4e10a68",
   "metadata": {},
   "source": [
    "### Len()-gives the length of the list"
   ]
  },
  {
   "cell_type": "code",
   "execution_count": 32,
   "id": "9247e71b",
   "metadata": {},
   "outputs": [
    {
     "data": {
      "text/plain": [
       "[4, 5, 6, 7, 8, 9, 10]"
      ]
     },
     "execution_count": 32,
     "metadata": {},
     "output_type": "execute_result"
    }
   ],
   "source": [
    "x"
   ]
  },
  {
   "cell_type": "code",
   "execution_count": 33,
   "id": "a3a484bb",
   "metadata": {},
   "outputs": [
    {
     "data": {
      "text/plain": [
       "7"
      ]
     },
     "execution_count": 33,
     "metadata": {},
     "output_type": "execute_result"
    }
   ],
   "source": [
    "len(x)"
   ]
  },
  {
   "cell_type": "markdown",
   "id": "fff5c4ee",
   "metadata": {},
   "source": [
    "### Max()-gives the max in the list"
   ]
  },
  {
   "cell_type": "code",
   "execution_count": 30,
   "id": "77b93f54",
   "metadata": {},
   "outputs": [
    {
     "data": {
      "text/plain": [
       "280"
      ]
     },
     "execution_count": 30,
     "metadata": {},
     "output_type": "execute_result"
    }
   ],
   "source": [
    "max(80,120,280)"
   ]
  },
  {
   "cell_type": "markdown",
   "id": "4a8c5a6e",
   "metadata": {},
   "source": [
    "### Tuple(seq)"
   ]
  },
  {
   "cell_type": "code",
   "execution_count": 34,
   "id": "bacec78d",
   "metadata": {},
   "outputs": [],
   "source": [
    "data=(\"Orange\", 5639, \"Grape\")"
   ]
  },
  {
   "cell_type": "code",
   "execution_count": 35,
   "id": "d45b72e5",
   "metadata": {},
   "outputs": [
    {
     "data": {
      "text/plain": [
       "tuple"
      ]
     },
     "execution_count": 35,
     "metadata": {},
     "output_type": "execute_result"
    }
   ],
   "source": [
    "type(data)"
   ]
  }
 ],
 "metadata": {
  "kernelspec": {
   "display_name": "Python 3",
   "language": "python",
   "name": "python3"
  },
  "language_info": {
   "codemirror_mode": {
    "name": "ipython",
    "version": 3
   },
   "file_extension": ".py",
   "mimetype": "text/x-python",
   "name": "python",
   "nbconvert_exporter": "python",
   "pygments_lexer": "ipython3",
   "version": "3.8.8"
  }
 },
 "nbformat": 4,
 "nbformat_minor": 5
}
